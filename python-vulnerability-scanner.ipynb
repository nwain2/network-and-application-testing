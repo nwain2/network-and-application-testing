{
 "cells": [
  {
   "cell_type": "code",
   "execution_count": 1,
   "id": "a94e08b3",
   "metadata": {},
   "outputs": [
    {
     "data": {
      "text/plain": [
       "1"
      ]
     },
     "execution_count": 1,
     "metadata": {},
     "output_type": "execute_result"
    }
   ],
   "source": [
    "import os\n",
    "import time\n",
    "\n",
    "zap_path = 'C:\\Program Files\\OWASP\\Zed Attack Proxy' # replace with the path to your zap installation\n",
    "target_url = 'https://sysdig.com/' # replace with the target website to scan\n",
    "\n",
    "# Start ZAP proxy\n",
    "os.system(f'{zap_path} -daemon -config api.disablekey=true -port 8090 &')\n",
    "time.sleep(5)\n",
    "\n",
    "# Start ZAP spider\n",
    "os.system(f'{zap_path} -cli -zap-cli-options \"spider {target_url}\"')\n",
    "time.sleep(30)\n",
    "\n",
    "# Start ZAP active scan\n",
    "os.system(f'{zap_path} -cli -zap-cli-options \"active-scan -r {target_url}\"')\n",
    "time.sleep(60)\n",
    "\n",
    "# Generate a report\n",
    "os.system(f'{zap_path} -cli -zap-cli-options \"report -o report.html -f html\"')\n",
    "\n",
    "# Stop ZAP\n",
    "os.system(f'{zap_path} -cli -zap-cli-options \"shutdown\"')"
   ]
  },
  {
   "cell_type": "code",
   "execution_count": null,
   "id": "fb44c8d0",
   "metadata": {},
   "outputs": [],
   "source": []
  }
 ],
 "metadata": {
  "kernelspec": {
   "display_name": "Python 3 (ipykernel)",
   "language": "python",
   "name": "python3"
  },
  "language_info": {
   "codemirror_mode": {
    "name": "ipython",
    "version": 3
   },
   "file_extension": ".py",
   "mimetype": "text/x-python",
   "name": "python",
   "nbconvert_exporter": "python",
   "pygments_lexer": "ipython3",
   "version": "3.9.13"
  }
 },
 "nbformat": 4,
 "nbformat_minor": 5
}
