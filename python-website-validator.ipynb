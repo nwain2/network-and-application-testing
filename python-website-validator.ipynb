{
 "cells": [
  {
   "cell_type": "code",
   "execution_count": 1,
   "id": "e52e5db4",
   "metadata": {},
   "outputs": [
    {
     "name": "stdout",
     "output_type": "stream",
     "text": [
      "https://www.google12345.com is not valid.\n"
     ]
    }
   ],
   "source": [
    "import requests\n",
    "\n",
    "def check_website(url):\n",
    "    try:\n",
    "        response = requests.get(url)\n",
    "        if response.status_code == 200:\n",
    "            return True\n",
    "        else:\n",
    "            return False\n",
    "    except:\n",
    "        return False\n",
    "    \n",
    "    \n",
    "#Usage\n",
    "url = \"https://www.google12345.com\"\n",
    "if check_website(url):\n",
    "    print(f\"{url} is valid.\")\n",
    "else:\n",
    "    print(f\"{url} is not valid.\")"
   ]
  },
  {
   "cell_type": "code",
   "execution_count": null,
   "id": "a385808e",
   "metadata": {},
   "outputs": [],
   "source": []
  },
  {
   "cell_type": "code",
   "execution_count": null,
   "id": "610c6a47",
   "metadata": {},
   "outputs": [],
   "source": []
  },
  {
   "cell_type": "code",
   "execution_count": 1,
   "id": "15d21467",
   "metadata": {},
   "outputs": [
    {
     "name": "stdout",
     "output_type": "stream",
     "text": [
      "https://www.google.com is valid.\n",
      "https://www.example2.com is not valid.\n",
      "https://www.example500.com is not valid.\n"
     ]
    }
   ],
   "source": [
    "import requests\n",
    "\n",
    "def check_website(url):\n",
    "    try:\n",
    "        response = requests.get(url)\n",
    "        if response.status_code == 200:\n",
    "            return True\n",
    "        else:\n",
    "            return False\n",
    "    except:\n",
    "        return False\n",
    "\n",
    "def check_websites(websites):\n",
    "    for website in websites:\n",
    "        if check_website(website):\n",
    "            print(f\"{website} is valid.\")\n",
    "        else:\n",
    "            print(f\"{website} is not valid.\")\n",
    "\n",
    "# Example usage:\n",
    "websites = [\n",
    "    \"https://www.google.com\",\n",
    "    \"https://www.example2.com\",\n",
    "    # ...\n",
    "    \"https://www.example500.com\"\n",
    "]\n",
    "\n",
    "check_websites(websites)\n"
   ]
  },
  {
   "cell_type": "code",
   "execution_count": null,
   "id": "5f5ece52",
   "metadata": {},
   "outputs": [],
   "source": []
  }
 ],
 "metadata": {
  "kernelspec": {
   "display_name": "Python 3 (ipykernel)",
   "language": "python",
   "name": "python3"
  },
  "language_info": {
   "codemirror_mode": {
    "name": "ipython",
    "version": 3
   },
   "file_extension": ".py",
   "mimetype": "text/x-python",
   "name": "python",
   "nbconvert_exporter": "python",
   "pygments_lexer": "ipython3",
   "version": "3.9.13"
  }
 },
 "nbformat": 4,
 "nbformat_minor": 5
}
