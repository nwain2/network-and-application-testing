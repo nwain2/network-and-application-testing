{
 "cells": [
  {
   "cell_type": "code",
   "execution_count": 2,
   "id": "3b228483",
   "metadata": {},
   "outputs": [
    {
     "name": "stdout",
     "output_type": "stream",
     "text": [
      "Available devices in the network:\n",
      "IP                  MAC\n",
      "192.168.1.1         a8:9a:93:99:f5:72\n",
      "192.168.1.6         90:2e:16:9d:eb:27\n",
      "192.168.1.15        00:14:34:00:5d:7d\n",
      "192.168.1.58        f4:7b:09:29:0c:e3\n",
      "192.168.1.80        00:27:04:3b:05:5f\n",
      "192.168.1.88        c0:51:7e:58:9c:d1\n",
      "192.168.1.120       34:fd:6a:23:a3:d1\n",
      "192.168.1.92        bc:d0:74:38:44:8b\n",
      "192.168.1.37        38:87:d5:d6:fb:55\n",
      "192.168.1.90        78:20:a5:52:45:7f\n",
      "192.168.1.8         dc:41:a9:a9:6f:aa\n",
      "192.168.1.70        7c:78:b2:7a:3a:8d\n",
      "192.168.1.208       94:57:a5:9b:e7:af\n",
      "192.168.1.118       f6:36:24:8f:24:3d\n"
     ]
    }
   ],
   "source": [
    "from scapy.all import ARP, Ether, srp\n",
    "\n",
    "target_ip = \"192.168.1.1/24\"\n",
    "# IP Address for the destination\n",
    "# create ARP packet\n",
    "arp = ARP(pdst=target_ip)\n",
    "# create the Ether broadcast packet\n",
    "# ff:ff:ff:ff:ff:ff MAC address indicates broadcasting\n",
    "ether = Ether(dst=\"ff:ff:ff:ff:ff:ff\")\n",
    "# stack them\n",
    "packet = ether/arp\n",
    "\n",
    "result = srp(packet, timeout=3, verbose=0)[0]\n",
    "\n",
    "# a list of clients, we will fill this in the upcoming loop\n",
    "clients = []\n",
    "\n",
    "for sent, received in result:\n",
    "    # for each response, append ip and mac address to `clients` list\n",
    "    clients.append({'ip': received.psrc, 'mac': received.hwsrc})\n",
    "\n",
    "# print clients\n",
    "print(\"Available devices in the network:\")\n",
    "print(\"IP\" + \" \"*18+\"MAC\")\n",
    "for client in clients:\n",
    "    print(\"{:16}    {}\".format(client['ip'], client['mac']))"
   ]
  },
  {
   "cell_type": "code",
   "execution_count": null,
   "id": "c0862511",
   "metadata": {},
   "outputs": [],
   "source": []
  }
 ],
 "metadata": {
  "kernelspec": {
   "display_name": "Python 3 (ipykernel)",
   "language": "python",
   "name": "python3"
  },
  "language_info": {
   "codemirror_mode": {
    "name": "ipython",
    "version": 3
   },
   "file_extension": ".py",
   "mimetype": "text/x-python",
   "name": "python",
   "nbconvert_exporter": "python",
   "pygments_lexer": "ipython3",
   "version": "3.9.13"
  }
 },
 "nbformat": 4,
 "nbformat_minor": 5
}
