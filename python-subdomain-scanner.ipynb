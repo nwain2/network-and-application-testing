{
 "cells": [
  {
   "cell_type": "code",
   "execution_count": 3,
   "id": "d22579df",
   "metadata": {},
   "outputs": [],
   "source": [
    "import requests\n",
    "\n",
    "#the domain to scan for subdomains\n",
    "\n",
    "domain = \"https://www.tag-cyber.com/\"\n",
    "\n",
    "#read all subdomains\n",
    "file = open(\"subdomains.txt\")\n",
    "#read all content\n",
    "content = file.read()\n",
    "#split by new lines\n",
    "subdomains = content.splitlines()\n",
    "\n",
    "# a list of discovered subdomains\n",
    "discovered_subdomains = []\n",
    "for subdomain in subdomains:\n",
    "    # construct the url\n",
    "    url = f\"http://{subdomain}.{domain}\"\n",
    "    try:\n",
    "        # if this raises an ERROR, that means the subdomain does not exist\n",
    "        requests.get(url)\n",
    "    except requests.ConnectionError:\n",
    "        # if the subdomain does not exist, just pass, print nothing\n",
    "        pass\n",
    "    else:\n",
    "        print(\"[+] Discovered subdomain:\", url)\n",
    "        # append the discovered subdomain to our list\n",
    "        discovered_subdomains.append(url)\n",
    "        \n",
    "\n",
    "# save the discovered subdomains into a file\n",
    "with open(\"discovered_subdomains.txt\", \"w\") as f:\n",
    "    for subdomain in discovered_subdomains:\n",
    "        print(subdomain, file=f)"
   ]
  },
  {
   "cell_type": "code",
   "execution_count": null,
   "id": "17153b5c",
   "metadata": {},
   "outputs": [],
   "source": []
  }
 ],
 "metadata": {
  "kernelspec": {
   "display_name": "Python 3 (ipykernel)",
   "language": "python",
   "name": "python3"
  },
  "language_info": {
   "codemirror_mode": {
    "name": "ipython",
    "version": 3
   },
   "file_extension": ".py",
   "mimetype": "text/x-python",
   "name": "python",
   "nbconvert_exporter": "python",
   "pygments_lexer": "ipython3",
   "version": "3.9.13"
  }
 },
 "nbformat": 4,
 "nbformat_minor": 5
}
